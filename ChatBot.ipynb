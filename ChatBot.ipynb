{
  "nbformat": 4,
  "nbformat_minor": 0,
  "metadata": {
    "colab": {
      "provenance": [],
      "authorship_tag": "ABX9TyNQBFh8WocO5KF5HvRbPN4S",
      "include_colab_link": true
    },
    "kernelspec": {
      "name": "python3",
      "display_name": "Python 3"
    },
    "language_info": {
      "name": "python"
    }
  },
  "cells": [
    {
      "cell_type": "markdown",
      "metadata": {
        "id": "view-in-github",
        "colab_type": "text"
      },
      "source": [
        "<a href=\"https://colab.research.google.com/github/area-41/Gemini/blob/main/ChatBot.ipynb\" target=\"_parent\"><img src=\"https://colab.research.google.com/assets/colab-badge.svg\" alt=\"Open In Colab\"/></a>"
      ]
    },
    {
      "cell_type": "code",
      "execution_count": 15,
      "metadata": {
        "id": "uiY5SlqPMf7x"
      },
      "outputs": [],
      "source": [
        "import google.generativeai as genai\n",
        "\n",
        "GOOGLE_API_KEY = \"\"\n",
        "genai.configure(api_key=GOOGLE_API_KEY)"
      ]
    },
    {
      "cell_type": "markdown",
      "source": [
        "Para listar os modelos"
      ],
      "metadata": {
        "id": "Rlg3pckHNUrE"
      }
    },
    {
      "cell_type": "code",
      "source": [
        "for m in genai.list_models():\n",
        "    if 'generateContent' in m.supported_generation_methods:\n",
        "        print(m.name)"
      ],
      "metadata": {
        "colab": {
          "base_uri": "https://localhost:8080/",
          "height": 138
        },
        "id": "EMM4jBgONTyS",
        "outputId": "de8a70b7-31bf-40c6-a425-42d9ef067391"
      },
      "execution_count": 16,
      "outputs": [
        {
          "output_type": "stream",
          "name": "stdout",
          "text": [
            "models/gemini-1.0-pro\n",
            "models/gemini-1.0-pro-001\n",
            "models/gemini-1.0-pro-latest\n",
            "models/gemini-1.0-pro-vision-latest\n",
            "models/gemini-1.5-pro-latest\n",
            "models/gemini-pro\n",
            "models/gemini-pro-vision\n"
          ]
        }
      ]
    },
    {
      "cell_type": "code",
      "source": [
        "generation_config = {\n",
        "    \"candidate_count\": 1,\n",
        "    \"temperature\": 0.5,\n",
        "    \"top_k\": 40,\n",
        "    \"top_p\": 0.95,\n",
        "    \"typical_p\": 1,\n",
        "    \"repetition_penalty\": 1.18,\n",
        "    \"max_output_tokens\": 3,\n",
        "    \"stop_sequences\": \"<|endoftext|>\"\n",
        "}"
      ],
      "metadata": {
        "id": "8gXb12K6Oebj"
      },
      "execution_count": 76,
      "outputs": []
    },
    {
      "cell_type": "code",
      "source": [
        "safety_settings = {\n",
        "    \"HARASSMENT\":\"BLOCK_NONE\",\n",
        "    \"HATE\":\"BLOCK_NONE\",\n",
        "    \"DANGEROUS\":\"BLOCK_NONE\",\n",
        "    \"SEXUAL\":\"BLOCK_NONE\",\n",
        "}"
      ],
      "metadata": {
        "id": "zJ1EHpi3RDoX"
      },
      "execution_count": 18,
      "outputs": []
    },
    {
      "cell_type": "markdown",
      "source": [
        "inicializando o modelo"
      ],
      "metadata": {
        "id": "3iAdNcrJSZaT"
      }
    },
    {
      "cell_type": "code",
      "source": [
        "model = genai.GenerativeModel(model_name=\"gemini-1.0-pro\",\n",
        "                              generation_config=generation_config,\n",
        "                              safety_settings=safety_settings)"
      ],
      "metadata": {
        "id": "Au6eVyluRbi0"
      },
      "execution_count": 19,
      "outputs": []
    },
    {
      "cell_type": "code",
      "source": [
        "response = model.generate_content(\"Vamos falar sobre AI. Fale um pouco sobre você Gemini.\")\n",
        "print(response.text)"
      ],
      "metadata": {
        "colab": {
          "base_uri": "https://localhost:8080/",
          "height": 54
        },
        "id": "WYVui-XkUuPV",
        "outputId": "601cff9b-f382-4233-d858-19869b6c7dec"
      },
      "execution_count": 77,
      "outputs": [
        {
          "output_type": "stream",
          "name": "stdout",
          "text": [
            "Como um modelo de linguagem de IA multimodal, não tenho um eu ou identidade pessoal como os humanos. Sou projetado para fornecer informações e ajudar os usuários com uma ampla gama de consultas e tarefas.\n"
          ]
        }
      ]
    },
    {
      "cell_type": "code",
      "source": [
        "response.parts"
      ],
      "metadata": {
        "colab": {
          "base_uri": "https://localhost:8080/"
        },
        "id": "Ne6nJY9mU_YC",
        "outputId": "fe40bd81-04db-48d2-ada9-a23123e0e87c"
      },
      "execution_count": 21,
      "outputs": [
        {
          "output_type": "execute_result",
          "data": {
            "text/plain": [
              "[text: \"Como modelo de linguagem de IA multimodal, n\\303\\243o tenho um nome ou identidade pessoal como \\\"Gemini\\\". Sou projetado para fornecer informa\\303\\247\\303\\265es e assist\\303\\252ncia com base no conhecimento e nos padr\\303\\265es que aprendi com os dados de treinamento massivos nos quais fui treinado.\"\n",
              "]"
            ]
          },
          "metadata": {},
          "execution_count": 21
        }
      ]
    },
    {
      "cell_type": "code",
      "source": [
        "chat = model.start_chat(history=[])"
      ],
      "metadata": {
        "id": "nSxnjx7GVTnk"
      },
      "execution_count": 78,
      "outputs": []
    },
    {
      "cell_type": "code",
      "source": [
        "prompt = input(\">>>> INSERIR PROMPT >>>>\\t\")"
      ],
      "metadata": {
        "colab": {
          "base_uri": "https://localhost:8080/"
        },
        "id": "7SlHGjH4VOBJ",
        "outputId": "bf4f9271-59f3-4a07-c710-36930e29e29a"
      },
      "execution_count": 79,
      "outputs": [
        {
          "name": "stdout",
          "output_type": "stream",
          "text": [
            ">>>> INSERIR PROMPT >>>>\tML\n"
          ]
        }
      ]
    },
    {
      "cell_type": "code",
      "source": [
        "prompt = input(\">>>> INSERIR PROMPT >>>>\\t\")\n",
        "\n",
        "while prompt != \"fim\":\n",
        "    response =chat.send_message(prompt)\n",
        "    print(f\"Resposta: {response.text}\\n\".format())\n",
        "    prompt = input(\">>>> INSERIR PROMPT >>>>\\t\")\n"
      ],
      "metadata": {
        "colab": {
          "base_uri": "https://localhost:8080/",
          "height": 679
        },
        "id": "Q-MJCci7WJFC",
        "outputId": "26d6ce80-d7be-4bf5-ead5-0a6b0af32d9c"
      },
      "execution_count": 80,
      "outputs": [
        {
          "name": "stdout",
          "output_type": "stream",
          "text": [
            ">>>> INSERIR PROMPT >>>>\tfale me sobre ML\n",
            "Resposta: **Aprendizado de Máquina (ML)**\n",
            "\n",
            "O aprendizado de máquina é um subcampo da inteligência artificial que permite que os computadores aprendam com dados sem serem explicitamente programados. Os algoritmos de ML são projetados para identificar padrões e tomar decisões com base em dados históricos.\n",
            "\n",
            "**Tipos de Aprendizado de Máquina**\n",
            "\n",
            "* **Aprendizado Supervisionado:** Os algoritmos são treinados com dados rotulados, onde cada ponto de dados é associado a uma saída conhecida.\n",
            "* **Aprendizado Não Supervisionado:** Os algoritmos são treinados com dados não rotulados e encontram padrões e estruturas ocultas nos dados.\n",
            "* **Aprendizado por Reforço:** Os algoritmos aprendem por meio de tentativa e erro, recebendo recompensas ou penalidades por suas ações.\n",
            "\n",
            "**Técnicas Comuns de ML**\n",
            "\n",
            "* **Regressão:** Previsão de valores contínuos (por exemplo, preço de uma ação).\n",
            "* **Classificação:** Atribuição de pontos de dados a categorias pré-definidas (por exemplo, spam ou não spam).\n",
            "* **Agrupamento:** Divisão de dados em grupos com base em semelhanças.\n",
            "* **Detecção de Anomalias:** Identificação de pontos de dados que se desviam de padrões normais.\n",
            "\n",
            "**Aplicações de ML**\n",
            "\n",
            "O ML tem inúmeras aplicações em vários setores, incluindo:\n",
            "\n",
            "* **Cuidados de saúde:** Diagnóstico de doenças, previsão de riscos e desenvolvimento de tratamentos personalizados.\n",
            "* **Finanças:** Detecção de fraudes, previsão de tendências do mercado e gerenciamento de riscos.\n",
            "* **Marketing:** Personalização de campanhas, segmentação de clientes e otimização de anúncios.\n",
            "* **Transporte:** Otimização de rotas, previsão de tráfego e desenvolvimento de veículos autônomos.\n",
            "* **Fabricação:** Otimização de processos, detecção de defeitos e previsão de demanda.\n",
            "\n",
            "**Benefícios do ML**\n",
            "\n",
            "* **Automação:** Os algoritmos de ML podem automatizar tarefas repetitivas e complexas.\n",
            "* **Previsões Aprimoradas:** O ML pode fornecer previsões precisas com base em dados históricos.\n",
            "* **Personalização:** Os algoritmos de ML podem personalizar experiências para usuários individuais.\n",
            "* **Tomada de Decisão Melhorada:** O ML pode auxiliar na tomada de decisões informadas, fornecendo insights e recomendações.\n",
            "* **Inovação:** O ML impulsiona a inovação em vários setores, criando novas oportunidades e resolvendo problemas complexos.\n",
            "\n",
            ">>>> INSERIR PROMPT >>>>\tfim\n"
          ]
        }
      ]
    },
    {
      "cell_type": "markdown",
      "source": [
        "O Gemini enviou o texto no idioma espanhol."
      ],
      "metadata": {
        "id": "uqFFJL0QzHn4"
      }
    },
    {
      "cell_type": "code",
      "source": [
        "chat.history"
      ],
      "metadata": {
        "colab": {
          "base_uri": "https://localhost:8080/"
        },
        "id": "wifNZByaWdeG",
        "outputId": "26184da4-00fe-4249-c586-132ef73c96b9"
      },
      "execution_count": 81,
      "outputs": [
        {
          "output_type": "execute_result",
          "data": {
            "text/plain": [
              "[parts {\n",
              "   text: \"fale me sobre ML\"\n",
              " }\n",
              " role: \"user\",\n",
              " parts {\n",
              "   text: \"**Aprendizado de M\\303\\241quina (ML)**\\n\\nO aprendizado de m\\303\\241quina \\303\\251 um subcampo da intelig\\303\\252ncia artificial que permite que os computadores aprendam com dados sem serem explicitamente programados. Os algoritmos de ML s\\303\\243o projetados para identificar padr\\303\\265es e tomar decis\\303\\265es com base em dados hist\\303\\263ricos.\\n\\n**Tipos de Aprendizado de M\\303\\241quina**\\n\\n* **Aprendizado Supervisionado:** Os algoritmos s\\303\\243o treinados com dados rotulados, onde cada ponto de dados \\303\\251 associado a uma sa\\303\\255da conhecida.\\n* **Aprendizado N\\303\\243o Supervisionado:** Os algoritmos s\\303\\243o treinados com dados n\\303\\243o rotulados e encontram padr\\303\\265es e estruturas ocultas nos dados.\\n* **Aprendizado por Refor\\303\\247o:** Os algoritmos aprendem por meio de tentativa e erro, recebendo recompensas ou penalidades por suas a\\303\\247\\303\\265es.\\n\\n**T\\303\\251cnicas Comuns de ML**\\n\\n* **Regress\\303\\243o:** Previs\\303\\243o de valores cont\\303\\255nuos (por exemplo, pre\\303\\247o de uma a\\303\\247\\303\\243o).\\n* **Classifica\\303\\247\\303\\243o:** Atribui\\303\\247\\303\\243o de pontos de dados a categorias pr\\303\\251-definidas (por exemplo, spam ou n\\303\\243o spam).\\n* **Agrupamento:** Divis\\303\\243o de dados em grupos com base em semelhan\\303\\247as.\\n* **Detec\\303\\247\\303\\243o de Anomalias:** Identifica\\303\\247\\303\\243o de pontos de dados que se desviam de padr\\303\\265es normais.\\n\\n**Aplica\\303\\247\\303\\265es de ML**\\n\\nO ML tem in\\303\\272meras aplica\\303\\247\\303\\265es em v\\303\\241rios setores, incluindo:\\n\\n* **Cuidados de sa\\303\\272de:** Diagn\\303\\263stico de doen\\303\\247as, previs\\303\\243o de riscos e desenvolvimento de tratamentos personalizados.\\n* **Finan\\303\\247as:** Detec\\303\\247\\303\\243o de fraudes, previs\\303\\243o de tend\\303\\252ncias do mercado e gerenciamento de riscos.\\n* **Marketing:** Personaliza\\303\\247\\303\\243o de campanhas, segmenta\\303\\247\\303\\243o de clientes e otimiza\\303\\247\\303\\243o de an\\303\\272ncios.\\n* **Transporte:** Otimiza\\303\\247\\303\\243o de rotas, previs\\303\\243o de tr\\303\\241fego e desenvolvimento de ve\\303\\255culos aut\\303\\264nomos.\\n* **Fabrica\\303\\247\\303\\243o:** Otimiza\\303\\247\\303\\243o de processos, detec\\303\\247\\303\\243o de defeitos e previs\\303\\243o de demanda.\\n\\n**Benef\\303\\255cios do ML**\\n\\n* **Automa\\303\\247\\303\\243o:** Os algoritmos de ML podem automatizar tarefas repetitivas e complexas.\\n* **Previs\\303\\265es Aprimoradas:** O ML pode fornecer previs\\303\\265es precisas com base em dados hist\\303\\263ricos.\\n* **Personaliza\\303\\247\\303\\243o:** Os algoritmos de ML podem personalizar experi\\303\\252ncias para usu\\303\\241rios individuais.\\n* **Tomada de Decis\\303\\243o Melhorada:** O ML pode auxiliar na tomada de decis\\303\\265es informadas, fornecendo insights e recomenda\\303\\247\\303\\265es.\\n* **Inova\\303\\247\\303\\243o:** O ML impulsiona a inova\\303\\247\\303\\243o em v\\303\\241rios setores, criando novas oportunidades e resolvendo problemas complexos.\"\n",
              " }\n",
              " role: \"model\"]"
            ]
          },
          "metadata": {},
          "execution_count": 81
        }
      ]
    },
    {
      "cell_type": "markdown",
      "source": [
        "## Melhorando a visualização"
      ],
      "metadata": {
        "id": "Iy-By97zzlEH"
      }
    },
    {
      "cell_type": "code",
      "source": [
        "import textwrap\n",
        "from IPython.display import display, Markdown"
      ],
      "metadata": {
        "id": "TiOfLtJp3142"
      },
      "execution_count": 27,
      "outputs": []
    },
    {
      "cell_type": "code",
      "source": [
        "from IPython.display import display\n",
        "from IPython.display import Markdown"
      ],
      "metadata": {
        "id": "1_FMli8Y34pS"
      },
      "execution_count": 28,
      "outputs": []
    },
    {
      "cell_type": "code",
      "source": [
        "def to_markdown(text):\n",
        "    text = text.replace('***', '# ')\n",
        "    text = text.replace(':**', ': ')\n",
        "    text = text.replace('**', '#### ')\n",
        "    text = text.replace('*', ' * ')\n",
        "    return Markdown(textwrap.indent(text, '> ', predicate=lambda _: True))\n",
        "\n",
        "    # imprimir o histórico\n",
        "    for message in chat.history:\n",
        "        display(Markdown(f\"~~~ \\n**{message.role}**: {message.parts[0].text}\"))"
      ],
      "metadata": {
        "id": "j9cGL-HvzQ04"
      },
      "execution_count": 113,
      "outputs": []
    },
    {
      "cell_type": "code",
      "source": [
        "to_markdown(response.text)"
      ],
      "metadata": {
        "colab": {
          "base_uri": "https://localhost:8080/",
          "height": 938
        },
        "id": "jzsSBQlM3vlX",
        "outputId": "f172a69a-9869-4d08-9191-cce62464947a"
      },
      "execution_count": 114,
      "outputs": [
        {
          "output_type": "execute_result",
          "data": {
            "text/plain": [
              "<IPython.core.display.Markdown object>"
            ],
            "text/markdown": "> #### Aprendizado de Máquina (ML)#### \n> \n> O aprendizado de máquina é um subcampo da inteligência artificial que permite que os computadores aprendam com dados sem serem explicitamente programados. Os algoritmos de ML são projetados para identificar padrões e tomar decisões com base em dados históricos.\n> \n> #### Tipos de Aprendizado de Máquina#### \n> \n>  *  #### Aprendizado Supervisionado:  Os algoritmos são treinados com dados rotulados, onde cada ponto de dados é associado a uma saída conhecida.\n>  *  #### Aprendizado Não Supervisionado:  Os algoritmos são treinados com dados não rotulados e encontram padrões e estruturas ocultas nos dados.\n>  *  #### Aprendizado por Reforço:  Os algoritmos aprendem por meio de tentativa e erro, recebendo recompensas ou penalidades por suas ações.\n> \n> #### Técnicas Comuns de ML#### \n> \n>  *  #### Regressão:  Previsão de valores contínuos (por exemplo, preço de uma ação).\n>  *  #### Classificação:  Atribuição de pontos de dados a categorias pré-definidas (por exemplo, spam ou não spam).\n>  *  #### Agrupamento:  Divisão de dados em grupos com base em semelhanças.\n>  *  #### Detecção de Anomalias:  Identificação de pontos de dados que se desviam de padrões normais.\n> \n> #### Aplicações de ML#### \n> \n> O ML tem inúmeras aplicações em vários setores, incluindo:\n> \n>  *  #### Cuidados de saúde:  Diagnóstico de doenças, previsão de riscos e desenvolvimento de tratamentos personalizados.\n>  *  #### Finanças:  Detecção de fraudes, previsão de tendências do mercado e gerenciamento de riscos.\n>  *  #### Marketing:  Personalização de campanhas, segmentação de clientes e otimização de anúncios.\n>  *  #### Transporte:  Otimização de rotas, previsão de tráfego e desenvolvimento de veículos autônomos.\n>  *  #### Fabricação:  Otimização de processos, detecção de defeitos e previsão de demanda.\n> \n> #### Benefícios do ML#### \n> \n>  *  #### Automação:  Os algoritmos de ML podem automatizar tarefas repetitivas e complexas.\n>  *  #### Previsões Aprimoradas:  O ML pode fornecer previsões precisas com base em dados históricos.\n>  *  #### Personalização:  Os algoritmos de ML podem personalizar experiências para usuários individuais.\n>  *  #### Tomada de Decisão Melhorada:  O ML pode auxiliar na tomada de decisões informadas, fornecendo insights e recomendações.\n>  *  #### Inovação:  O ML impulsiona a inovação em vários setores, criando novas oportunidades e resolvendo problemas complexos."
          },
          "metadata": {},
          "execution_count": 114
        }
      ]
    },
    {
      "cell_type": "code",
      "source": [
        "response.parts"
      ],
      "metadata": {
        "colab": {
          "base_uri": "https://localhost:8080/",
          "height": 141
        },
        "id": "IoGiT_MD2pmS",
        "outputId": "a9b1c702-76cc-4df7-ab13-6b536e82ef8e"
      },
      "execution_count": 69,
      "outputs": [
        {
          "output_type": "error",
          "ename": "AttributeError",
          "evalue": "'GenerateContentResponse' object has no attribute 'prompt'",
          "traceback": [
            "\u001b[0;31m---------------------------------------------------------------------------\u001b[0m",
            "\u001b[0;31mAttributeError\u001b[0m                            Traceback (most recent call last)",
            "\u001b[0;32m<ipython-input-69-f045f7d30f6f>\u001b[0m in \u001b[0;36m<cell line: 1>\u001b[0;34m()\u001b[0m\n\u001b[0;32m----> 1\u001b[0;31m \u001b[0mresponse\u001b[0m\u001b[0;34m.\u001b[0m\u001b[0mprompt\u001b[0m\u001b[0;34m\u001b[0m\u001b[0;34m\u001b[0m\u001b[0m\n\u001b[0m",
            "\u001b[0;31mAttributeError\u001b[0m: 'GenerateContentResponse' object has no attribute 'prompt'"
          ]
        }
      ]
    },
    {
      "cell_type": "code",
      "source": [],
      "metadata": {
        "id": "69fM0rta7WiQ"
      },
      "execution_count": null,
      "outputs": []
    }
  ]
}
