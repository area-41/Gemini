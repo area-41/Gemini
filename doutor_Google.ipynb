{
  "nbformat": 4,
  "nbformat_minor": 0,
  "metadata": {
    "colab": {
      "provenance": [],
      "authorship_tag": "ABX9TyNon4SNmqFZL+XbWixyy0fN",
      "include_colab_link": true
    },
    "kernelspec": {
      "name": "python3",
      "display_name": "Python 3"
    },
    "language_info": {
      "name": "python"
    }
  },
  "cells": [
    {
      "cell_type": "markdown",
      "metadata": {
        "id": "view-in-github",
        "colab_type": "text"
      },
      "source": [
        "<a href=\"https://colab.research.google.com/github/area-41/Gemini/blob/main/doutor_Google.ipynb\" target=\"_parent\"><img src=\"https://colab.research.google.com/assets/colab-badge.svg\" alt=\"Open In Colab\"/></a>"
      ]
    },
    {
      "cell_type": "code",
      "source": [
        "import numpy as np\n",
        "import pandas as pd\n",
        "import google.generativeai as genai\n",
        "from google.colab import userdata"
      ],
      "metadata": {
        "id": "mGX9LGBygqJR"
      },
      "execution_count": 3,
      "outputs": []
    },
    {
      "cell_type": "code",
      "source": [
        "api_key = userdata.get(\"SECRET_KEY\")\n",
        "genai.configure(api_key=api_key)"
      ],
      "metadata": {
        "id": "3KRBfXb_gxpX"
      },
      "execution_count": 4,
      "outputs": []
    },
    {
      "cell_type": "code",
      "source": [
        "sintomas = input(\"\\nOlá, meu nome é dr. Google\"\n",
        "                  \"\\n um assistente virtual que pode ajudar\"\n",
        "                  \"\\n em dar algumas dicas de como agir segundo os seus sintomas.\"\n",
        "                  \"\\nEntão diz aí, o que você está sentindo?\\n\\n\\t\")"
      ],
      "metadata": {
        "colab": {
          "base_uri": "https://localhost:8080/"
        },
        "id": "WcBVeZm3jHD9",
        "outputId": "b2a57362-8e87-4891-8517-415f702270f1"
      },
      "execution_count": 14,
      "outputs": [
        {
          "name": "stdout",
          "output_type": "stream",
          "text": [
            "\n",
            "Olá, meu nome é dr. Google\n",
            " um assistente virtual que pode ajudar\n",
            " em dar algumas dicas de como agir segundo os seus sintomas.\n",
            "Então diz aí, o que você está sentindo?\n",
            "\n",
            "\tDor no pé \n"
          ]
        }
      ]
    },
    {
      "cell_type": "code",
      "execution_count": 15,
      "metadata": {
        "colab": {
          "base_uri": "https://localhost:8080/",
          "height": 402
        },
        "id": "ZEKRLg2Wd8Ko",
        "outputId": "dbd5fd3b-fc86-42fe-ad47-710cb96cb58c"
      },
      "outputs": [
        {
          "output_type": "stream",
          "name": "stdout",
          "text": [
            "Sinto muito em saber que você está sentindo dor no pé.  Infelizmente, não sou médica e não posso diagnosticar ou fornecer aconselhamento médico.  \n",
            "\n",
            "Dor no pé pode ter várias causas, como:\n",
            "\n",
            "* **Lesões:**  entorses, fraturas, tendinite, fascite plantar\n",
            "* **Condições médicas:** artrite, gota, diabetes\n",
            "* **Calçados inadequados:** saltos altos, sapatos apertados\n",
            "* **Excesso de esforço físico**\n",
            "* **Postura inadequada**\n",
            "\n",
            "Se a dor for intensa, persistir por muito tempo ou se você apresentar outros sintomas como inchaço, vermelhidão ou febre, **procure atendimento médico o mais rápido possível**. Um profissional de saúde poderá avaliar seus sintomas, fazer exames se necessário, e indicar o tratamento adequado para o seu caso.\n",
            "\n",
            "Enquanto isso, algumas medidas que podem ajudar a aliviar a dor no pé:\n",
            "\n",
            "* **Repouso:** evite atividades que sobrecarreguem o pé.\n",
            "* **Gelo:** aplique compressas de gelo na área dolorida por 15-20 minutos, várias vezes ao dia.\n",
            "* **Elevação:** mantenha o pé elevado para reduzir o inchaço.\n",
            "* **Analgésicos:** como paracetamol ou ibuprofeno, podem ajudar a aliviar a dor. \n",
            "\n",
            "Lembre-se, é fundamental consultar um médico para um diagnóstico preciso e tratamento adequado. Cuide-se bem! \n",
            "\n"
          ]
        }
      ],
      "source": [
        "\n",
        "\"\"\"\n",
        "At the command line, only need to run once to install the package via pip:\n",
        "\n",
        "$ pip install google-generativeai\n",
        "\"\"\"\n",
        "\n",
        "import google.generativeai as genai\n",
        "\n",
        "genai.configure(api_key=api_key)\n",
        "\n",
        "# Set up the model\n",
        "generation_config = {\n",
        "  \"temperature\": 2,\n",
        "  \"top_p\": 0.95,\n",
        "  \"top_k\": 0,\n",
        "  \"max_output_tokens\": 8192,\n",
        "}\n",
        "\n",
        "safety_settings = [\n",
        "  {\n",
        "    \"category\": \"HARM_CATEGORY_HARASSMENT\",\n",
        "    \"threshold\": \"BLOCK_MEDIUM_AND_ABOVE\"\n",
        "  },\n",
        "  {\n",
        "    \"category\": \"HARM_CATEGORY_HATE_SPEECH\",\n",
        "    \"threshold\": \"BLOCK_MEDIUM_AND_ABOVE\"\n",
        "  },\n",
        "  {\n",
        "    \"category\": \"HARM_CATEGORY_SEXUALLY_EXPLICIT\",\n",
        "    \"threshold\": \"BLOCK_MEDIUM_AND_ABOVE\"\n",
        "  },\n",
        "  {\n",
        "    \"category\": \"HARM_CATEGORY_DANGEROUS_CONTENT\",\n",
        "    \"threshold\": \"BLOCK_MEDIUM_AND_ABOVE\"\n",
        "  },\n",
        "]\n",
        "\n",
        "model = genai.GenerativeModel(model_name=\"gemini-1.5-pro-latest\",\n",
        "                              generation_config=generation_config,\n",
        "                              safety_settings=safety_settings)\n",
        "\n",
        "prompt_parts = [\n",
        "  sintomas,\n",
        "]\n",
        "\n",
        "response = model.generate_content(prompt_parts)\n",
        "print(response.text)"
      ]
    }
  ]
}